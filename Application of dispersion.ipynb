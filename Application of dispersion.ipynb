{
 "cells": [
  {
   "cell_type": "code",
   "execution_count": null,
   "metadata": {},
   "outputs": [],
   "source": [
    "\n",
    "###Range, Variance, Standard Deviation, and IQR in Drug Response Data\n",
    "\n",
    "#### Example:\n",
    "\n",
    "# Suppose we have a dataset representing drug response rates in a group of patients:\n",
    "\n",
    "Drug_A: [0.2, 0.4, 0.5, 0.7, 0.9]\n",
    "Drug_B: [0.3, 0.5, 0.6, 0.6, 0.8]\n",
    "\n",
    "#Range: Calculate the range to understand how widely the response rates vary.\n",
    "#Variance and Standard Deviation: Compute these measures to quantify the spread of response rates around the mean.\n",
    "#IQR: Determine the interquartile range to understand the spread of data within the middle 50%.\n"
   ]
  }
 ],
 "metadata": {
  "language_info": {
   "name": "python"
  },
  "orig_nbformat": 4
 },
 "nbformat": 4,
 "nbformat_minor": 2
}
