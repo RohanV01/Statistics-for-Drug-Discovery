{
 "cells": [
  {
   "cell_type": "code",
   "execution_count": null,
   "metadata": {},
   "outputs": [],
   "source": [
    "# Mean, Median, and Mode in Drug Response Data\n",
    "# Example:\n",
    "# Suppose we have a dataset representing drug response rates in a group of patients:\n",
    "\n",
    "Drug_A: [0.2, 0.4, 0.5, 0.7, 0.9]\n",
    "Drug_B: [0.3, 0.5, 0.6, 0.6, 0.8]\n",
    "\n",
    "# Mean: Calculate the mean response rate for each drug to get an overall idea of the drug's efficacy.\n",
    "# Median: Determine the median response rate to understand the middle value, which may be more robust to outliers.\n",
    "# Mode: Identify the most common response rate, which could indicate the most frequent outcome."
   ]
  }
 ],
 "metadata": {
  "language_info": {
   "name": "python"
  },
  "orig_nbformat": 4
 },
 "nbformat": 4,
 "nbformat_minor": 2
}
